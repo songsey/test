{
 "cells": [
  {
   "cell_type": "code",
   "execution_count": 4,
   "id": "92157586",
   "metadata": {},
   "outputs": [
    {
     "name": "stdout",
     "output_type": "stream",
     "text": [
      "Setting 'myremote' as a default remote.\n"
     ]
    },
    {
     "name": "stderr",
     "output_type": "stream",
     "text": [
      "ERROR: configuration error - config file error: Not inside a DVC repo\n"
     ]
    }
   ],
   "source": [
    "!dvc remote add -d myremote s3://mlops-model-registry-dev"
   ]
  },
  {
   "cell_type": "code",
   "execution_count": 3,
   "id": "e20754e8",
   "metadata": {},
   "outputs": [
    {
     "name": "stderr",
     "output_type": "stream",
     "text": [
      "INFO:airflow.task:airflow.task >>> 1 - INFO execution time\n",
      "INFO:airflow.task:Predicted: --- 0.34456443786621094 seconds ---\n"
     ]
    }
   ],
   "source": [
    "import keras_applications\n",
    "from keras.utils.layer_utils import get_source_inputs\n",
    "from keras.preprocessing import image\n",
    "from imagenet_utils import preprocess_input, decode_predictions\n",
    "from vgg16 import VGG16\n",
    "from keras.preprocessing import image\n",
    "import logging\n",
    "import time\n",
    "import numpy as np\n",
    "\n",
    "logging.basicConfig(level = logging.INFO)\n",
    "logger = logging.getLogger(\"airflow.task\") \n",
    "logger.info(\"airflow.task >>> 1 - INFO execution time\")\n",
    "\n",
    "model = VGG16(weights='imagenet', include_top=True)\n",
    "\n",
    "img_path = 'kochias.jpg'\n",
    "img = image.load_img(img_path, target_size=(224, 224))\n",
    "x = image.img_to_array(img)\n",
    "x = np.expand_dims(x, axis=0)\n",
    "x = preprocess_input(x)\n",
    "\n",
    "start_time = time.time()\n",
    "preds = decode_predictions(model.predict(x))\n",
    "\n",
    "logger.info(\"Predicted: --- %s seconds ---\" % (time.time() - start_time))\n"
   ]
  }
 ],
 "metadata": {
  "kernelspec": {
   "display_name": "Python 3 (ipykernel)",
   "language": "python",
   "name": "python3"
  },
  "language_info": {
   "codemirror_mode": {
    "name": "ipython",
    "version": 3
   },
   "file_extension": ".py",
   "mimetype": "text/x-python",
   "name": "python",
   "nbconvert_exporter": "python",
   "pygments_lexer": "ipython3",
   "version": "3.9.7"
  }
 },
 "nbformat": 4,
 "nbformat_minor": 5
}
