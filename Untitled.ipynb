{
 "cells": [
  {
   "cell_type": "code",
   "execution_count": 29,
   "id": "0489cb0f",
   "metadata": {},
   "outputs": [],
   "source": [
    "import os \n",
    "os.getcwd()\n",
    "import time\n",
    "import numpy as np\n",
    "import logging\n",
    "logger = logging.getLogger(\"airflow.task\") \n",
    "logger.setLevel(logging.INFO)\n",
    "\n",
    "logger.info(\"airflow.task >>> 2 - INFO logger test\")\n",
    "\n"
   ]
  },
  {
   "cell_type": "code",
   "execution_count": 12,
   "id": "71874208",
   "metadata": {},
   "outputs": [
    {
     "name": "stdout",
     "output_type": "stream",
     "text": [
      "Collecting keras_applications\n",
      "  Downloading Keras_Applications-1.0.8-py3-none-any.whl (50 kB)\n",
      "Requirement already satisfied: numpy>=1.9.1 in c:\\users\\sy\\anaconda3\\lib\\site-packages (from keras_applications) (1.20.3)\n",
      "Requirement already satisfied: h5py in c:\\users\\sy\\anaconda3\\lib\\site-packages (from keras_applications) (3.2.1)\n",
      "Installing collected packages: keras-applications\n",
      "Successfully installed keras-applications-1.0.8\n"
     ]
    }
   ],
   "source": [
    "!pip install keras_applications\n",
    "# !pip install keras\n",
    "# !pip install tensorflow"
   ]
  },
  {
   "cell_type": "code",
   "execution_count": 1,
   "id": "99142eec",
   "metadata": {},
   "outputs": [],
   "source": [
    "import keras_applications\n",
    "from keras.utils.layer_utils import get_source_inputs\n",
    "from resnet50 import ResNet50\n",
    "from keras.preprocessing import image\n",
    "from imagenet_utils import preprocess_input, decode_predictions\n",
    "# model = ResNet50(weights='imagenet')"
   ]
  },
  {
   "cell_type": "code",
   "execution_count": 2,
   "id": "23221844",
   "metadata": {},
   "outputs": [
    {
     "data": {
      "text/plain": [
       "<keras.engine.functional.Functional at 0x18533d6e520>"
      ]
     },
     "execution_count": 2,
     "metadata": {},
     "output_type": "execute_result"
    }
   ],
   "source": [
    "model"
   ]
  },
  {
   "cell_type": "code",
   "execution_count": 4,
   "id": "130fc385",
   "metadata": {},
   "outputs": [
    {
     "data": {
      "text/plain": [
       "'channels_last'"
      ]
     },
     "execution_count": 4,
     "metadata": {},
     "output_type": "execute_result"
    }
   ],
   "source": [
    "from keras import backend as K\n",
    "K.image_data_format() "
   ]
  },
  {
   "cell_type": "code",
   "execution_count": 3,
   "id": "f0039437",
   "metadata": {},
   "outputs": [
    {
     "name": "stdout",
     "output_type": "stream",
     "text": [
      "--- 0.12337636947631836 seconds ---\n",
      "Predicted: [[('n07745940', 'strawberry', 0.46123216), ('n02793495', 'barn', 0.096587725), ('n09256479', 'coral_reef', 0.058490857), ('n09472597', 'volcano', 0.029526234), ('n07718747', 'artichoke', 0.01965344)]]\n"
     ]
    }
   ],
   "source": [
    "import numpy as np, time\n",
    "img_path = 'kochias.jpg'\n",
    "img = image.load_img(img_path, target_size=(224, 224))\n",
    "x = image.img_to_array(img)\n",
    "x = np.expand_dims(x, axis=0)\n",
    "x = preprocess_input(x)\n",
    "\n",
    "start_time = time.time()\n",
    "preds = model.predict(x)\n",
    "\n",
    "print(\"--- %s seconds ---\" % (time.time() - start_time))\n",
    "\n",
    "print('Predicted:', decode_predictions(preds))\n",
    "\n",
    "\n",
    "\n",
    "# print: [[u'n02504458', u'African_elephant']]"
   ]
  },
  {
   "cell_type": "markdown",
   "id": "3c9f061a",
   "metadata": {},
   "source": [
    "# vgg 16 "
   ]
  },
  {
   "cell_type": "code",
   "execution_count": 8,
   "id": "c3f55ab5",
   "metadata": {},
   "outputs": [
    {
     "data": {
      "text/plain": [
       "array([[[[ 0.        ,  0.        ,  0.        , ...,  0.        ,\n",
       "           0.        ,  0.        ],\n",
       "         [ 0.        ,  0.        ,  0.        , ...,  0.        ,\n",
       "           0.        ,  0.        ],\n",
       "         [ 0.        ,  0.        ,  0.        , ...,  0.        ,\n",
       "           0.70592564,  0.        ],\n",
       "         ...,\n",
       "         [ 0.        ,  0.        ,  0.        , ...,  0.        ,\n",
       "           0.        ,  0.        ],\n",
       "         [ 0.        ,  0.        ,  0.        , ...,  0.        ,\n",
       "           0.        ,  0.        ],\n",
       "         [ 0.        ,  0.        ,  0.        , ...,  0.        ,\n",
       "           0.        ,  0.        ]],\n",
       "\n",
       "        [[ 0.        ,  0.        ,  0.        , ...,  0.        ,\n",
       "           8.163091  ,  0.        ],\n",
       "         [ 0.        ,  0.        ,  0.        , ...,  0.        ,\n",
       "          12.586967  ,  0.        ],\n",
       "         [ 0.        ,  0.        ,  0.        , ...,  0.        ,\n",
       "          27.035625  ,  0.        ],\n",
       "         ...,\n",
       "         [ 0.        ,  0.        ,  0.        , ...,  0.        ,\n",
       "          24.93531   ,  0.        ],\n",
       "         [ 0.        ,  0.        ,  0.        , ...,  0.        ,\n",
       "          17.436417  ,  0.        ],\n",
       "         [ 0.        ,  0.        ,  0.        , ...,  0.        ,\n",
       "           0.        ,  0.        ]],\n",
       "\n",
       "        [[ 0.        ,  0.        ,  0.        , ...,  3.1292126 ,\n",
       "           3.557938  ,  0.        ],\n",
       "         [ 0.        ,  0.        ,  0.        , ...,  0.        ,\n",
       "           8.527989  ,  0.        ],\n",
       "         [ 6.0684843 ,  0.        ,  0.        , ...,  0.        ,\n",
       "          26.946709  ,  0.        ],\n",
       "         ...,\n",
       "         [ 0.        ,  0.        ,  0.        , ...,  0.        ,\n",
       "          16.500103  ,  0.        ],\n",
       "         [ 0.        ,  0.        ,  0.        , ...,  0.        ,\n",
       "          15.642542  ,  0.        ],\n",
       "         [ 0.        ,  0.        ,  0.        , ...,  0.        ,\n",
       "           0.        ,  0.        ]],\n",
       "\n",
       "        ...,\n",
       "\n",
       "        [[ 0.        ,  0.        , 39.967323  , ..., 41.404533  ,\n",
       "           0.        , 68.31949   ],\n",
       "         [ 0.        ,  0.        , 39.76154   , ..., 28.856853  ,\n",
       "           0.        , 51.70762   ],\n",
       "         [ 0.        ,  0.        , 15.288423  , ...,  0.        ,\n",
       "           0.        , 19.567465  ],\n",
       "         ...,\n",
       "         [ 0.        ,  0.        , 31.778145  , ..., 28.729973  ,\n",
       "           0.19087857, 20.81813   ],\n",
       "         [ 0.        ,  0.        , 54.750008  , ..., 40.720123  ,\n",
       "           0.        , 42.44341   ],\n",
       "         [ 0.        ,  0.        , 63.971195  , ...,  7.511428  ,\n",
       "           0.        , 41.883015  ]],\n",
       "\n",
       "        [[ 0.        ,  0.        , 23.158098  , ..., 28.324146  ,\n",
       "           0.        , 70.931816  ],\n",
       "         [ 0.        ,  0.        ,  0.        , ..., 22.401325  ,\n",
       "           0.        , 57.809364  ],\n",
       "         [ 0.        ,  0.        , 11.346958  , ..., 12.140172  ,\n",
       "           0.        , 29.689213  ],\n",
       "         ...,\n",
       "         [ 0.        ,  0.        , 15.526466  , ..., 14.495097  ,\n",
       "           2.9327316 ,  7.825182  ],\n",
       "         [ 0.        ,  0.        , 27.092556  , ..., 22.188978  ,\n",
       "           5.240852  , 13.858937  ],\n",
       "         [ 0.        ,  0.        , 26.010628  , ...,  4.188702  ,\n",
       "          17.705198  , 11.477164  ]],\n",
       "\n",
       "        [[ 0.        ,  0.        ,  0.        , ...,  6.79001   ,\n",
       "           6.9007964 , 64.64868   ],\n",
       "         [ 0.        ,  0.        ,  2.5382738 , ...,  3.328979  ,\n",
       "           0.        , 60.76877   ],\n",
       "         [ 0.        ,  0.        , 15.812806  , ...,  0.        ,\n",
       "           0.        , 16.211197  ],\n",
       "         ...,\n",
       "         [ 0.        ,  0.        , 17.852678  , ...,  0.        ,\n",
       "           0.        , 12.656821  ],\n",
       "         [ 0.        ,  0.        ,  5.889035  , ...,  0.        ,\n",
       "           0.        ,  0.        ],\n",
       "         [ 0.        ,  0.        ,  0.        , ...,  0.        ,\n",
       "           7.5114856 ,  0.        ]]]], dtype=float32)"
      ]
     },
     "execution_count": 8,
     "metadata": {},
     "output_type": "execute_result"
    }
   ],
   "source": [
    "model.predict(x)"
   ]
  },
  {
   "cell_type": "code",
   "execution_count": 11,
   "id": "fe1b69fb",
   "metadata": {},
   "outputs": [],
   "source": [
    "# model.predict(x)"
   ]
  },
  {
   "cell_type": "code",
   "execution_count": 12,
   "id": "f7762c5e",
   "metadata": {},
   "outputs": [
    {
     "name": "stdout",
     "output_type": "stream",
     "text": [
      "Downloading data from https://github.com/fchollet/deep-learning-models/releases/download/v0.1/vgg16_weights_tf_dim_ordering_tf_kernels.h5\n",
      "553467904/553467096 [==============================] - 106s 0us/step\n",
      "553476096/553467096 [==============================] - 106s 0us/step\n",
      "WARNING:tensorflow:5 out of the last 7 calls to <function Model.make_predict_function.<locals>.predict_function at 0x0000014FBF19C790> triggered tf.function retracing. Tracing is expensive and the excessive number of tracings could be due to (1) creating @tf.function repeatedly in a loop, (2) passing tensors with different shapes, (3) passing Python objects instead of tensors. For (1), please define your @tf.function outside of the loop. For (2), @tf.function has experimental_relax_shapes=True option that relaxes argument shapes that can avoid unnecessary retracing. For (3), please refer to https://www.tensorflow.org/guide/function#controlling_retracing and https://www.tensorflow.org/api_docs/python/tf/function for  more details.\n",
      "--- 0.29525089263916016 seconds ---\n",
      "Predicted: [[('n09256479', 'coral_reef', 0.6275242), ('n01914609', 'sea_anemone', 0.022079477), ('n03388043', 'fountain', 0.015802735), ('n09472597', 'volcano', 0.014981933), ('n09468604', 'valley', 0.014325832)]]\n"
     ]
    }
   ],
   "source": [
    "from vgg16 import VGG16\n",
    "from keras.preprocessing import image\n",
    "from imagenet_utils import preprocess_input\n",
    "\n",
    "model = VGG16(weights='imagenet', include_top=True)\n",
    "\n",
    "img_path = 'kochias.jpg'\n",
    "img = image.load_img(img_path, target_size=(224, 224))\n",
    "x = image.img_to_array(img)\n",
    "x = np.expand_dims(x, axis=0)\n",
    "x = preprocess_input(x)\n",
    "\n",
    "# features = model.predict(x)\n",
    "\n",
    "start_time = time.time()\n",
    "preds = model.predict(x)\n",
    "\n",
    "print(\"--- %s seconds ---\" % (time.time() - start_time))\n",
    "\n",
    "preds\n",
    "print('Predicted:', decode_predictions(preds))\n"
   ]
  },
  {
   "cell_type": "code",
   "execution_count": 15,
   "id": "2161fe16",
   "metadata": {},
   "outputs": [
    {
     "name": "stdout",
     "output_type": "stream",
     "text": [
      "Predicted: [[('n09256479', 'coral_reef', 0.6275242), ('n01914609', 'sea_anemone', 0.022079477), ('n03388043', 'fountain', 0.015802735), ('n09472597', 'volcano', 0.014981933), ('n09468604', 'valley', 0.014325832)]]\n",
      "--- 0.20406651496887207 seconds ---\n"
     ]
    }
   ],
   "source": [
    "start_time = time.time()\n",
    "print('Predicted:', decode_predictions(model.predict(x)))\n",
    "print(\"--- %s seconds ---\" % (time.time() - start_time))\n"
   ]
  },
  {
   "cell_type": "code",
   "execution_count": null,
   "id": "190abcad",
   "metadata": {},
   "outputs": [],
   "source": [
    "\n",
    "\n",
    "\n"
   ]
  }
 ],
 "metadata": {
  "kernelspec": {
   "display_name": "Python 3 (ipykernel)",
   "language": "python",
   "name": "python3"
  },
  "language_info": {
   "codemirror_mode": {
    "name": "ipython",
    "version": 3
   },
   "file_extension": ".py",
   "mimetype": "text/x-python",
   "name": "python",
   "nbconvert_exporter": "python",
   "pygments_lexer": "ipython3",
   "version": "3.9.7"
  }
 },
 "nbformat": 4,
 "nbformat_minor": 5
}
